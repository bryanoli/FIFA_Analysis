{
 "cells": [
  {
   "cell_type": "code",
   "execution_count": null,
   "id": "bb39e714-96fc-499e-b780-ea09dd2dd5b3",
   "metadata": {},
   "outputs": [],
   "source": [
    "import argparse\n",
    "import os"
   ]
  },
  {
   "cell_type": "code",
   "execution_count": 2,
   "id": "f4cf65ab-f90c-42c0-a3c7-ed4ba195220d",
   "metadata": {},
   "outputs": [],
   "source": [
    "import pyspark"
   ]
  },
  {
   "cell_type": "code",
   "execution_count": 3,
   "id": "9300f166-cd01-44b2-b3e7-4325b07e4f00",
   "metadata": {},
   "outputs": [],
   "source": [
    "from pyspark.sql import SparkSession\n",
    "from pyspark.sql import functions as F\n",
    "from pyspark.sql import SparkSession\n",
    "from pyspark.conf import SparkConf\n",
    "from pyspark.context import SparkContext\n",
    "from pyspark.sql.functions import col\n"
   ]
  },
  {
   "cell_type": "code",
   "execution_count": 4,
   "id": "c455b319-6158-4266-a8b2-d70b305c2ddc",
   "metadata": {},
   "outputs": [],
   "source": [
    "parser = argparse.ArgumentParser()"
   ]
  },
  {
   "cell_type": "code",
   "execution_count": 5,
   "id": "1d4cf5f6-c0a1-4155-9a53-ef6a809e65d3",
   "metadata": {},
   "outputs": [],
   "source": [
    "# parser.add_argument('--input_table', required=True)\n",
    "# parser.add_argument('--output')\n",
    "# args = parser.parse_args()\n",
    "# input_table = 'gs://ucl-premier-417919-bucket/par/part-00000-4b684bf2-1fdf-4fc9-a102-62b090bd6502-c000.snappy.parquet'\n",
    "# output = args.output"
   ]
  },
  {
   "cell_type": "code",
   "execution_count": 6,
   "id": "7b5cd06b-c145-4374-bd60-0296f7a08994",
   "metadata": {},
   "outputs": [
    {
     "name": "stderr",
     "output_type": "stream",
     "text": [
      "24/04/01 07:30:51 WARN NativeCodeLoader: Unable to load native-hadoop library for your platform... using builtin-java classes where applicable\n",
      "Setting default log level to \"WARN\".\n",
      "To adjust logging level use sc.setLogLevel(newLevel). For SparkR, use setLogLevel(newLevel).\n"
     ]
    }
   ],
   "source": [
    "credentials_location = \"/home/bryan/.google/credentials/google_credentials.json\"\n",
    "\n",
    "conf = SparkConf() \\\n",
    "    .setMaster('local[*]') \\\n",
    "    .setAppName('test') \\\n",
    "    .set(\"spark.jars\", \"../lib/gcs-connector-hadoop3-2.2.5.jar\") \\\n",
    "    .set(\"spark.hadoop.google.cloud.auth.service.account.enable\", \"true\") \\\n",
    "    .set(\"spark.hadoop.google.cloud.auth.service.account.json.keyfile\", credentials_location)\n",
    "\n",
    "sc = SparkContext(conf=conf)\n",
    "\n",
    "hadoop_conf = sc._jsc.hadoopConfiguration()\n",
    "\n",
    "hadoop_conf.set(\"fs.AbstractFileSystem.gs.impl\",  \"com.google.cloud.hadoop.fs.gcs.GoogleHadoopFS\")\n",
    "hadoop_conf.set(\"fs.gs.impl\", \"com.google.cloud.hadoop.fs.gcs.GoogleHadoopFileSystem\")\n",
    "hadoop_conf.set(\"fs.gs.auth.service.account.json.keyfile\", credentials_location)\n",
    "hadoop_conf.set(\"fs.gs.auth.service.account.enable\", \"true\")\n"
   ]
  },
  {
   "cell_type": "code",
   "execution_count": 7,
   "id": "e4c72b4d-9a8e-47b5-8a51-316defcd396d",
   "metadata": {},
   "outputs": [],
   "source": [
    "spark = SparkSession.builder \\\n",
    "    .appName('test') \\\n",
    "    .getOrCreate()"
   ]
  },
  {
   "cell_type": "code",
   "execution_count": 8,
   "id": "b460da5e-274d-41bb-ada8-9db7f1a22b48",
   "metadata": {},
   "outputs": [],
   "source": [
    "spark.conf.set('temporaryGcsBucket', 'dataproc-temp-us-west1-245998250410-jigg8mxm')"
   ]
  },
  {
   "cell_type": "code",
   "execution_count": 9,
   "id": "54a08715-c497-4cec-b1ff-2b12c7da1c4d",
   "metadata": {},
   "outputs": [
    {
     "name": "stderr",
     "output_type": "stream",
     "text": [
      "                                                                                \r"
     ]
    }
   ],
   "source": [
    "df_player_par = spark.read.parquet('gs://ucl-premier-417919-bucket/raw/player_stats.parquet')"
   ]
  },
  {
   "cell_type": "code",
   "execution_count": 10,
   "id": "a71d52b6-dcbf-4617-9915-375d0db963df",
   "metadata": {},
   "outputs": [
    {
     "name": "stderr",
     "output_type": "stream",
     "text": [
      "24/04/01 07:31:04 WARN package: Truncated the string representation of a plan since it was too large. This behavior can be adjusted by setting 'spark.sql.debug.maxToStringFields'.\n",
      "                                                                                \r"
     ]
    },
    {
     "name": "stdout",
     "output_type": "stream",
     "text": [
      "+--------------------+--------------+------+------+---+--------------------+------------+---------+-------+------------+------------+----------+---------+------------+-------------+------+---------+--------+----------+---------+------------+-------+--------+-------+------------+-------+-------+-------+----------+---------+----------+-----+------+---------+-------+--------------+---------+-----------+----------+-----------+----------+\n",
      "|              player|       country|height|weight|age|                club|ball_control|dribbling|marking|slide_tackle|stand_tackle|aggression|reactions|att_position|interceptions|vision|composure|crossing|short_pass|long_pass|acceleration|stamina|strength|balance|sprint_speed|agility|jumping|heading|shot_power|finishing|long_shots|curve|fk_acc|penalties|volleys|gk_positioning|gk_diving|gk_handling|gk_kicking|gk_reflexes|     value|\n",
      "+--------------------+--------------+------+------+---+--------------------+------------+---------+-------+------------+------------+----------+---------+------------+-------------+------+---------+--------+----------+---------+------------+-------+--------+-------+------------+-------+-------+-------+----------+---------+----------+-----+------+---------+-------+--------------+---------+-----------+----------+-----------+----------+\n",
      "|[43 72 69 73 74 6...|      Colombia|   192|    84| 22|[41 74 6C 2E 20 4...|          55|       43|       |          68|          73|        72|       68|          30|           65|    30|       50|      33|        64|       49|          41|     55|      86|     40|          52|     43|     51|     64|        54|       30|        31|   32|    34|       41|     33|            10|       11|          6|         7|          9|$1.400.000|\n",
      "|[53 69 6C 61 6C 6...|        Brazil|   181|    80| 31|[43 6F 72 69 6E 7...|          69|       70|       |          56|          58|        62|       70|          69|           70|    64|       54|      60|        63|       63|          64|     87|      81|     42|          67|     65|     65|     54|        60|       64|        68|   65|    62|       48|     46|            12|       15|         14|         8|         14|  $975.00 |\n",
      "|[54 68 6F 6D 61 7...|       Germany|   193|    84| 29|[48 6F 6C 73 74 6...|          25|       12|       |          13|          16|        27|       65|          17|           20|    49|       48|      14|        35|       18|          46|     38|      68|     41|          48|     36|     60|     17|        51|       14|        20|   20|    15|       26|     16|            64|       74|         65|        68|         74|$1.100.000|\n",
      "|[4D 69 63 68 61 6...|       Austria|   187|    86| 33|[53 4B 20 52 61 7...|          46|       48|       |          66|          69|        71|       64|          48|           66|    29|       70|      44|        58|       53|          35|     73|      82|     56|          63|     57|     80|     67|        32|       24|        33|   25|    13|       22|     19|            10|       10|          8|        14|          9|  $650.00 |\n",
      "|[44 69 65 67 6F 2...|       Uruguay|   191|    80| 23|[49 6E 64 65 70 6...|          14|        8|       |          14|          16|        28|       50|          10|           12|    38|       34|      11|        23|       20|          38|     28|      64|     24|          31|     34|     27|     13|        48|        4|         6|    9|    10|       16|      5|            61|       59|         62|        64|         64|  $300.00 |\n",
      "|[43 6C C3 A1 75 6...|      Portugal|   183|    83| 31|[46 43 20 50 6F 7...|          20|       16|       |          13|          17|        27|       70|          10|           21|    55|       44|      10|        25|       23|          55|     44|      75|     65|          54|     62|     72|     21|        48|       14|        16|   15|    13|       13|     10|            72|       78|         73|        64|         74|$2.800.000|\n",
      "|[43 C3 A9 64 72 6...|   Switzerland|   194|    88| 25|[42 53 43 20 59 6...|          52|       43|       |          71|          72|        63|       61|          37|           68|    34|       56|      43|        60|       55|          55|     75|      84|     33|          68|     34|     74|     74|        41|       33|        18|   29|    22|       34|     34|            10|        5|         14|        12|          5|$1.600.000|\n",
      "|[50 65 64 72 6F 2...|      Portugal|   185|    75| 20|[42 6F 61 76 69 7...|          41|       33|       |          65|          70|        46|       54|          27|           56|    25|       46|      26|        49|       45|          63|     64|      78|     63|          55|     45|     71|     55|        39|       21|        24|   26|    26|       39|     25|             7|        6|         12|        13|         11|  $230.00 |\n",
      "|[46 61 6D 61 72 6...|       Senegal|   189|    80| 30|[47 72 61 6E 61 6...|          68|       67|       |          16|          22|        61|       64|          72|           22|    50|       64|      33|        57|       42|          53|     54|      86|     58|          69|     60|     73|     76|        74|       71|        58|   53|    39|       72|     63|            11|        7|         10|        15|         12|$1.400.000|\n",
      "|[53 69 62 69 72 7...|          Mali|   173|    67| 22|[4B 41 53 20 45 7...|          65|       67|       |          30|          33|        40|       47|          65|           29|    58|       59|      60|        63|       61|          81|     55|      63|     80|          69|     68|     60|     47|        73|       53|        55|   53|    31|       58|     60|             8|       12|          8|         5|         15|  $475.00 |\n",
      "|[41 62 64 75 6C 6...|  Saudi Arabia|   186|    78| 23|[41 6C 20 48 69 6...|          62|       59|       |          30|          24|        51|       58|          62|           31|    57|       53|      58|        64|       51|          71|     63|      71|     54|          74|     67|     74|     60|        62|       60|        59|   49|    35|       57|     52|             8|       10|          6|        10|         10|  $475.00 |\n",
      "|[50 61 74 72 69 6...|       Germany|   169|    65| 31|[53 43 20 46 72 6...|          61|       59|       |          58|          59|        60|       58|          60|           60|    63|       49|      51|        65|       63|          74|     67|      49|     90|          66|     85|     71|     48|        56|       48|        57|   45|    50|       49|     39|             6|       14|         10|        10|         11|  $375.00 |\n",
      "|[56 69 6C 6D 65 7...|        Sweden|   193|    88| 21|[56 61 72 62 65 7...|          45|       28|       |          54|          58|        50|       50|          25|           54|    48|       48|      35|        54|       50|          61|     46|      78|     52|          64|     51|     60|     52|        50|       25|        23|   37|    30|       41|     35|             9|       10|         13|         7|         13|  $140.00 |\n",
      "|[50 72 61 62 69 7...|         India|   171|    67| 29|[42 65 6E 67 61 6...|          54|       51|       |          50|          51|        86|       55|          56|           51|    52|       45|      51|        50|       42|          73|     70|      64|     80|          78|     77|     58|     51|        51|       33|        45|   50|    40|       50|     46|            14|        9|          8|        15|         11|  $150.00 |\n",
      "|[54 79 72 65 65 6...|       England|   172|    65| 19|[43 68 61 72 6C 7...|          55|       57|       |          24|          29|        31|       46|          44|           21|    48|       46|      49|        44|       39|          77|     53|      40|     82|          79|     81|     42|     27|        50|       51|        45|   35|    35|       48|     41|            12|        8|          9|         8|         12|  $130.00 |\n",
      "|[4A 6F 68 6E 20 5...|      Scotland|   189|    75| 26|[52 61 6E 67 65 7...|          70|       60|       |          70|          75|        67|       68|          33|           66|    59|       71|      33|        70|       68|          65|     53|      83|     61|          67|     58|     72|     71|        52|       42|        47|   53|    41|       49|     28|            10|       13|         11|        15|          9|$2.300.000|\n",
      "|[58 61 76 69 65 7...|        France|   178|    66| 32|[45 53 54 41 43 2...|          74|       70|       |          68|          71|        72|       73|          68|           74|    72|       69|      68|        77|       72|          58|     89|      70|     73|          59|     67|     60|     58|        74|       66|        65|   70|    71|       63|     59|            14|       11|         15|         6|          7|$3.500.000|\n",
      "|[4B 69 6D 20 47 6...|Korea Republic|   185|    81| 26|[4A 65 6F 6E 62 7...|          59|       56|       |          56|          63|        69|       57|          55|           63|    59|       55|      36|        61|       65|          62|     61|      76|     60|          64|     65|     63|     54|        63|       38|        57|   34|    39|       44|     33|            13|       14|         12|        15|          6|  $400.00 |\n",
      "|[4A C3 A9 72 C3 A...|         Italy|   180|    71| 26|[50 61 6C 65 72 6...|          67|       66|       |          62|          65|        70|       66|          67|           69|    64|       54|      58|        68|       64|          80|     69|      64|     71|          80|     73|     71|     60|        69|       55|        58|   58|    55|       56|     58|            13|       14|          9|         7|         10|  $950.00 |\n",
      "|[45 69 72 69 6B 2...|        Norway|   183|    75| 19|[53 74 72 C3 B8 6...|          50|       48|       |          51|          55|        51|       43|          32|           55|    33|       45|      25|        50|       46|          55|     35|      58|     61|          62|     52|     84|     55|        38|       23|        22|   42|    26|       38|     28|             7|       14|         15|        14|         12|  $100.00 |\n",
      "+--------------------+--------------+------+------+---+--------------------+------------+---------+-------+------------+------------+----------+---------+------------+-------------+------+---------+--------+----------+---------+------------+-------+--------+-------+------------+-------+-------+-------+----------+---------+----------+-----+------+---------+-------+--------------+---------+-----------+----------+-----------+----------+\n",
      "only showing top 20 rows\n",
      "\n"
     ]
    }
   ],
   "source": [
    "df_player_par.show()"
   ]
  },
  {
   "cell_type": "code",
   "execution_count": 11,
   "id": "bdc9c437-1491-4a7d-a7bb-db8e9f2dd198",
   "metadata": {},
   "outputs": [
    {
     "name": "stdout",
     "output_type": "stream",
     "text": [
      "root\n",
      " |-- player: binary (nullable = true)\n",
      " |-- country: string (nullable = true)\n",
      " |-- height: long (nullable = true)\n",
      " |-- weight: long (nullable = true)\n",
      " |-- age: long (nullable = true)\n",
      " |-- club: binary (nullable = true)\n",
      " |-- ball_control: long (nullable = true)\n",
      " |-- dribbling: long (nullable = true)\n",
      " |-- marking: string (nullable = true)\n",
      " |-- slide_tackle: long (nullable = true)\n",
      " |-- stand_tackle: long (nullable = true)\n",
      " |-- aggression: long (nullable = true)\n",
      " |-- reactions: long (nullable = true)\n",
      " |-- att_position: long (nullable = true)\n",
      " |-- interceptions: long (nullable = true)\n",
      " |-- vision: long (nullable = true)\n",
      " |-- composure: long (nullable = true)\n",
      " |-- crossing: long (nullable = true)\n",
      " |-- short_pass: long (nullable = true)\n",
      " |-- long_pass: long (nullable = true)\n",
      " |-- acceleration: long (nullable = true)\n",
      " |-- stamina: long (nullable = true)\n",
      " |-- strength: long (nullable = true)\n",
      " |-- balance: long (nullable = true)\n",
      " |-- sprint_speed: long (nullable = true)\n",
      " |-- agility: long (nullable = true)\n",
      " |-- jumping: long (nullable = true)\n",
      " |-- heading: long (nullable = true)\n",
      " |-- shot_power: long (nullable = true)\n",
      " |-- finishing: long (nullable = true)\n",
      " |-- long_shots: long (nullable = true)\n",
      " |-- curve: long (nullable = true)\n",
      " |-- fk_acc: long (nullable = true)\n",
      " |-- penalties: long (nullable = true)\n",
      " |-- volleys: long (nullable = true)\n",
      " |-- gk_positioning: long (nullable = true)\n",
      " |-- gk_diving: long (nullable = true)\n",
      " |-- gk_handling: long (nullable = true)\n",
      " |-- gk_kicking: long (nullable = true)\n",
      " |-- gk_reflexes: long (nullable = true)\n",
      " |-- value: string (nullable = true)\n",
      "\n"
     ]
    }
   ],
   "source": [
    "df_player_par.printSchema()"
   ]
  },
  {
   "cell_type": "code",
   "execution_count": 12,
   "id": "ef1a6612-1819-4608-bb8a-f01f9eae7be8",
   "metadata": {},
   "outputs": [],
   "source": [
    "df_player_par = df_player_par.withColumn(\"player\", col(\"player\").cast(\"string\")) \\\n",
    "       .withColumn(\"club\", col(\"club\").cast(\"string\"))"
   ]
  },
  {
   "cell_type": "code",
   "execution_count": 13,
   "id": "0f420331-7188-41f9-8a4c-031df81a0507",
   "metadata": {},
   "outputs": [
    {
     "name": "stdout",
     "output_type": "stream",
     "text": [
      "root\n",
      " |-- player: string (nullable = true)\n",
      " |-- country: string (nullable = true)\n",
      " |-- height: long (nullable = true)\n",
      " |-- weight: long (nullable = true)\n",
      " |-- age: long (nullable = true)\n",
      " |-- club: string (nullable = true)\n",
      " |-- ball_control: long (nullable = true)\n",
      " |-- dribbling: long (nullable = true)\n",
      " |-- marking: string (nullable = true)\n",
      " |-- slide_tackle: long (nullable = true)\n",
      " |-- stand_tackle: long (nullable = true)\n",
      " |-- aggression: long (nullable = true)\n",
      " |-- reactions: long (nullable = true)\n",
      " |-- att_position: long (nullable = true)\n",
      " |-- interceptions: long (nullable = true)\n",
      " |-- vision: long (nullable = true)\n",
      " |-- composure: long (nullable = true)\n",
      " |-- crossing: long (nullable = true)\n",
      " |-- short_pass: long (nullable = true)\n",
      " |-- long_pass: long (nullable = true)\n",
      " |-- acceleration: long (nullable = true)\n",
      " |-- stamina: long (nullable = true)\n",
      " |-- strength: long (nullable = true)\n",
      " |-- balance: long (nullable = true)\n",
      " |-- sprint_speed: long (nullable = true)\n",
      " |-- agility: long (nullable = true)\n",
      " |-- jumping: long (nullable = true)\n",
      " |-- heading: long (nullable = true)\n",
      " |-- shot_power: long (nullable = true)\n",
      " |-- finishing: long (nullable = true)\n",
      " |-- long_shots: long (nullable = true)\n",
      " |-- curve: long (nullable = true)\n",
      " |-- fk_acc: long (nullable = true)\n",
      " |-- penalties: long (nullable = true)\n",
      " |-- volleys: long (nullable = true)\n",
      " |-- gk_positioning: long (nullable = true)\n",
      " |-- gk_diving: long (nullable = true)\n",
      " |-- gk_handling: long (nullable = true)\n",
      " |-- gk_kicking: long (nullable = true)\n",
      " |-- gk_reflexes: long (nullable = true)\n",
      " |-- value: string (nullable = true)\n",
      "\n"
     ]
    }
   ],
   "source": [
    "df_player_par.printSchema()"
   ]
  },
  {
   "cell_type": "code",
   "execution_count": 14,
   "id": "5313579c-50f6-4695-ab8e-b2e6029bd9c4",
   "metadata": {},
   "outputs": [
    {
     "name": "stderr",
     "output_type": "stream",
     "text": [
      "                                                                                \r"
     ]
    }
   ],
   "source": [
    "output_path = 'gs://ucl-premier-417919-bucket/par/'\n",
    "df_player_par.coalesce(1).write.parquet(output_path,mode='overwrite')\n",
    "spark.stop()\n",
    "# df_green.write.parquet('gs://ucl-premier-417919-bucket/pq/')"
   ]
  },
  {
   "cell_type": "code",
   "execution_count": 15,
   "id": "b2b2c0a5-56f4-48e3-bba6-cbd80a01afa8",
   "metadata": {},
   "outputs": [],
   "source": [
    "# table_ref = 'premier-predict-417919.ucl_data.updated_types'\n",
    "# df_player_table = spark.read.format('bigquery') \\\n",
    "#     .option(\"table\", table_ref) \\\n",
    "#     .load()\n",
    "# df_player_table.createOrReplaceTempView('df_player_table')"
   ]
  },
  {
   "cell_type": "code",
   "execution_count": null,
   "id": "16558229-5016-426d-b8a6-288277788f85",
   "metadata": {},
   "outputs": [],
   "source": []
  }
 ],
 "metadata": {
  "kernelspec": {
   "display_name": "Python 3 (ipykernel)",
   "language": "python",
   "name": "python3"
  },
  "language_info": {
   "codemirror_mode": {
    "name": "ipython",
    "version": 3
   },
   "file_extension": ".py",
   "mimetype": "text/x-python",
   "name": "python",
   "nbconvert_exporter": "python",
   "pygments_lexer": "ipython3",
   "version": "3.11.7"
  }
 },
 "nbformat": 4,
 "nbformat_minor": 5
}
